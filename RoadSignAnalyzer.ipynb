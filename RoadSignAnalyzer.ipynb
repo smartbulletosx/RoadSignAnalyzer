{
 "cells": [
  {
   "cell_type": "code",
   "execution_count": 1,
   "id": "5fd95f66",
   "metadata": {},
   "outputs": [
    {
     "ename": "ModuleNotFoundError",
     "evalue": "No module named 'matplotlib'",
     "output_type": "error",
     "traceback": [
      "\u001b[1;31m---------------------------------------------------------------------------\u001b[0m",
      "\u001b[1;31mModuleNotFoundError\u001b[0m                       Traceback (most recent call last)",
      "\u001b[1;32m<ipython-input-1-f5002eb542aa>\u001b[0m in \u001b[0;36m<module>\u001b[1;34m\u001b[0m\n\u001b[0;32m      1\u001b[0m \u001b[1;32mimport\u001b[0m \u001b[0mos\u001b[0m\u001b[1;33m\u001b[0m\u001b[1;33m\u001b[0m\u001b[0m\n\u001b[0;32m      2\u001b[0m \u001b[1;32mimport\u001b[0m \u001b[0mglob\u001b[0m\u001b[1;33m\u001b[0m\u001b[1;33m\u001b[0m\u001b[0m\n\u001b[1;32m----> 3\u001b[1;33m \u001b[1;32mimport\u001b[0m \u001b[0mmatplotlib\u001b[0m\u001b[1;33m\u001b[0m\u001b[1;33m\u001b[0m\u001b[0m\n\u001b[0m\u001b[0;32m      4\u001b[0m \u001b[1;32mimport\u001b[0m \u001b[0mnumpy\u001b[0m\u001b[1;33m\u001b[0m\u001b[1;33m\u001b[0m\u001b[0m\n\u001b[0;32m      5\u001b[0m \u001b[1;32mimport\u001b[0m \u001b[0mnumpy\u001b[0m \u001b[1;32mas\u001b[0m \u001b[0mnp\u001b[0m\u001b[1;33m\u001b[0m\u001b[1;33m\u001b[0m\u001b[0m\n",
      "\u001b[1;31mModuleNotFoundError\u001b[0m: No module named 'matplotlib'"
     ]
    }
   ],
   "source": [
    "import os\n",
    "import glob\n",
    "import matplotlib\n",
    "import numpy\n",
    "import numpy as np\n",
    "import cv2 \n",
    "from PIL import Image\n",
    "from tensorflow.keras.preprocessing.image import img_to_array\n",
    "from sklearn.model_selection import train_test_split\n",
    "from tensorflow.keras.utils import to_categorical\n",
    "from keras.models import Sequential, load_model\n",
    "from keras.layers import Conv2D, MaxPool2D, Dense, Flatten, Dropout\n",
    "from tensorflow.keras import backend as K\n",
    "import matplotlib.pyplot as plt\n",
    "from sklearn.metrics import accuracy_score\n",
    "import random\n",
    "from tensorflow import convert_to_tensor"
   ]
  },
  {
   "cell_type": "code",
   "execution_count": 2,
   "id": "ad2be30c",
   "metadata": {},
   "outputs": [
    {
     "ename": "FileNotFoundError",
     "evalue": "[WinError 3] Системе не удается найти указанный путь: 'D:\\\\PycharmProjects\\\\PandasLearn\\\\Images\\\\'",
     "output_type": "error",
     "traceback": [
      "\u001b[1;31m---------------------------------------------------------------------------\u001b[0m",
      "\u001b[1;31mFileNotFoundError\u001b[0m                         Traceback (most recent call last)",
      "\u001b[1;32m<ipython-input-2-73324e5099cf>\u001b[0m in \u001b[0;36m<module>\u001b[1;34m\u001b[0m\n\u001b[0;32m      1\u001b[0m \u001b[0mBASE_PATH\u001b[0m \u001b[1;33m=\u001b[0m \u001b[0mos\u001b[0m\u001b[1;33m.\u001b[0m\u001b[0mgetcwd\u001b[0m\u001b[1;33m(\u001b[0m\u001b[1;33m)\u001b[0m\u001b[1;33m\u001b[0m\u001b[1;33m\u001b[0m\u001b[0m\n\u001b[0;32m      2\u001b[0m \u001b[0mIMAGES_PATH\u001b[0m \u001b[1;33m=\u001b[0m \u001b[0mBASE_PATH\u001b[0m \u001b[1;33m+\u001b[0m \u001b[0mos\u001b[0m\u001b[1;33m.\u001b[0m\u001b[0msep\u001b[0m \u001b[1;33m+\u001b[0m \u001b[1;34m\"Images\"\u001b[0m \u001b[1;33m+\u001b[0m \u001b[0mos\u001b[0m\u001b[1;33m.\u001b[0m\u001b[0msep\u001b[0m\u001b[1;33m\u001b[0m\u001b[1;33m\u001b[0m\u001b[0m\n\u001b[1;32m----> 3\u001b[1;33m \u001b[0mIMAGES_FOLDERS\u001b[0m \u001b[1;33m=\u001b[0m \u001b[1;33m[\u001b[0m\u001b[1;33m(\u001b[0m\u001b[1;32mlambda\u001b[0m \u001b[0mpath\u001b[0m\u001b[1;33m:\u001b[0m \u001b[0mIMAGES_PATH\u001b[0m \u001b[1;33m+\u001b[0m \u001b[0mpath\u001b[0m\u001b[1;33m)\u001b[0m\u001b[1;33m(\u001b[0m\u001b[0mpath\u001b[0m\u001b[1;33m)\u001b[0m \u001b[1;32mfor\u001b[0m \u001b[0mpath\u001b[0m \u001b[1;32min\u001b[0m \u001b[0mos\u001b[0m\u001b[1;33m.\u001b[0m\u001b[0mlistdir\u001b[0m\u001b[1;33m(\u001b[0m\u001b[0mIMAGES_PATH\u001b[0m\u001b[1;33m)\u001b[0m\u001b[1;33m]\u001b[0m\u001b[1;33m\u001b[0m\u001b[1;33m\u001b[0m\u001b[0m\n\u001b[0m\u001b[0;32m      4\u001b[0m \u001b[0mIMAGES_FOLDERS\u001b[0m \u001b[1;33m=\u001b[0m \u001b[0mIMAGES_FOLDERS\u001b[0m\u001b[1;33m[\u001b[0m\u001b[1;36m1\u001b[0m\u001b[1;33m:\u001b[0m\u001b[1;33m]\u001b[0m\u001b[1;33m\u001b[0m\u001b[1;33m\u001b[0m\u001b[0m\n\u001b[0;32m      5\u001b[0m \u001b[0mIMAGERS_DATA\u001b[0m \u001b[1;33m=\u001b[0m \u001b[1;33m[\u001b[0m\u001b[1;33m(\u001b[0m\u001b[1;32mlambda\u001b[0m \u001b[0mpath\u001b[0m\u001b[1;33m:\u001b[0m \u001b[0mIMAGES_FOLDERS\u001b[0m\u001b[1;33m[\u001b[0m\u001b[1;36m0\u001b[0m\u001b[1;33m]\u001b[0m \u001b[1;33m+\u001b[0m \u001b[0mpath\u001b[0m\u001b[1;33m)\u001b[0m\u001b[1;33m(\u001b[0m\u001b[0mpath\u001b[0m\u001b[1;33m)\u001b[0m \u001b[1;32mfor\u001b[0m \u001b[0mpath\u001b[0m \u001b[1;32min\u001b[0m \u001b[0mos\u001b[0m\u001b[1;33m.\u001b[0m\u001b[0mlistdir\u001b[0m\u001b[1;33m(\u001b[0m\u001b[0mIMAGES_FOLDERS\u001b[0m\u001b[1;33m[\u001b[0m\u001b[1;36m0\u001b[0m\u001b[1;33m]\u001b[0m\u001b[1;33m)\u001b[0m\u001b[1;33m]\u001b[0m\u001b[1;33m\u001b[0m\u001b[1;33m\u001b[0m\u001b[0m\n",
      "\u001b[1;31mFileNotFoundError\u001b[0m: [WinError 3] Системе не удается найти указанный путь: 'D:\\\\PycharmProjects\\\\PandasLearn\\\\Images\\\\'"
     ]
    }
   ],
   "source": [
    "BASE_PATH = os.getcwd()\n",
    "IMAGES_PATH = BASE_PATH + os.sep + \"Images\" + os.sep\n",
    "IMAGES_FOLDERS = [(lambda path: IMAGES_PATH + path)(path) for path in os.listdir(IMAGES_PATH)]\n",
    "IMAGES_FOLDERS = IMAGES_FOLDERS[1:]\n",
    "IMAGERS_DATA = [(lambda path: IMAGES_FOLDERS[0] + path)(path) for path in os.listdir(IMAGES_FOLDERS[0])]"
   ]
  },
  {
   "cell_type": "code",
   "execution_count": null,
   "id": "f4c1a453",
   "metadata": {},
   "outputs": [],
   "source": [
    "data = []\n",
    "labels = []\n",
    "\n",
    "for num in range(0, 43):\n",
    "    path = os.path.join(IMAGES_PATH, str(num))\n",
    "    imagePaths = os.listdir(path)\n",
    "    for img in imagePaths:\n",
    "        try:\n",
    "            if(img[0] == \"G\" or img[0] == \" \" or img == \"\"):\n",
    "                print(img)\n",
    "                continue\n",
    "            image = Image.open(path + os.sep + img)\n",
    "            image = image.resize((30,30))\n",
    "            image = img_to_array(image)\n",
    "            data.append(image)\n",
    "            labels.append(num)\n",
    "        except:\n",
    "            continue"
   ]
  },
  {
   "cell_type": "code",
   "execution_count": null,
   "id": "038f144e",
   "metadata": {},
   "outputs": [],
   "source": [
    "print(data)\n",
    "data = np.array(data)\n",
    "labels = np.array(labels)\n",
    "print(data.shape, labels.shape)\n",
    "X_train, X_test, y_train, y_test = train_test_split(data, labels, test_size=0.2, random_state=42)"
   ]
  },
  {
   "cell_type": "code",
   "execution_count": null,
   "id": "5aeeeda6",
   "metadata": {},
   "outputs": [],
   "source": [
    "def cnt_img_in_classes(labels):\n",
    "    count = {}\n",
    "    for i in labels:\n",
    "        if i in count:\n",
    "            count[i] += 1\n",
    "        else:\n",
    "            count[i] = 1\n",
    "    return count\n",
    "\n",
    "\n",
    "samples_distribution = cnt_img_in_classes(y_train)"
   ]
  },
  {
   "cell_type": "code",
   "execution_count": null,
   "id": "317ad4fb",
   "metadata": {},
   "outputs": [],
   "source": [
    "def diagram(count_classes):\n",
    "    plt.bar(range(len(count_classes)), sorted(list(count_classes.values())), align='center')\n",
    "    plt.xticks(range(len(count_classes)), sorted(list(count_classes.keys())), rotation=90, fontsize=7)\n",
    "    plt.show()\n",
    "\n",
    "\n",
    "diagram(samples_distribution)"
   ]
  },
  {
   "cell_type": "code",
   "execution_count": null,
   "id": "95fddfb2",
   "metadata": {},
   "outputs": [],
   "source": [
    "def aug_images(images, p):\n",
    "    from imgaug import augmenters as iaa\n",
    "    augs = iaa.SomeOf((2, 4),\n",
    "                      [\n",
    "                          iaa.Crop(px=(0, 4)),\n",
    "                          iaa.Affine(scale={\"x\": (0.8, 1.2), \"y\": (0.8, 1.2)}),\n",
    "                          iaa.Affine(translate_percent={\"x\": (-0.2, 0.2), \"y\": (-0.2, 0.2)}),\n",
    "                          iaa.Affine(rotate=(-45, 45)),\n",
    "                          iaa.Affine(shear=(-10, 10))\n",
    "                      ])\n",
    "\n",
    "    seq = iaa.Sequential([iaa.Sometimes(p, augs)])\n",
    "    res = seq.augment_images(images)\n",
    "    return res\n",
    "\n",
    "def augmentation(images, labels):\n",
    "    min_imgs = 500\n",
    "    classes = cnt_img_in_classes(labels)\n",
    "    for i in range(len(classes)):\n",
    "        if classes[i] < min_imgs:\n",
    "            add_num = min_imgs - classes[i]\n",
    "            imgs_for_augm = []\n",
    "            lbls_for_augm = []\n",
    "            for j in range(add_num):\n",
    "                im_index = random.choice(np.where(labels == i)[0])\n",
    "                imgs_for_augm.append(images[im_index])\n",
    "                lbls_for_augm.append(labels[im_index])\n",
    "            augmented_class = aug_images(imgs_for_augm, 1)\n",
    "            augmented_class_np = np.array(augmented_class)\n",
    "            augmented_lbls_np = np.array(lbls_for_augm)\n",
    "            imgs = np.concatenate((images, augmented_class_np), axis=0)\n",
    "            lbls = np.concatenate((labels, augmented_lbls_np), axis=0)\n",
    "    return (images, labels)\n",
    "\n",
    "\n",
    "X_train, y_train = augmentation(X_train, y_train)\n",
    "\n",
    "augmented_samples_distribution = cnt_img_in_classes(y_train)\n",
    "diagram(augmented_samples_distribution)"
   ]
  },
  {
   "cell_type": "code",
   "execution_count": null,
   "id": "b5a84ca8",
   "metadata": {},
   "outputs": [],
   "source": [
    "y_train = to_categorical(y_train, 43)\n",
    "y_test = to_categorical(y_test, 43)\n",
    "\n",
    "print(y_train)\n",
    "print(y_test)"
   ]
  },
  {
   "cell_type": "code",
   "execution_count": null,
   "id": "91c15612",
   "metadata": {},
   "outputs": [],
   "source": [
    "class Net:\n",
    "  @staticmethod\n",
    "  def build(width, height, depth, classes):\n",
    "    model = Sequential()\n",
    "    inputShape = (height, width, depth)\n",
    "    if K.image_data_format() == 'channels_first':\n",
    "      inputShape = (depth, height, width)\n",
    "    model = Sequential()\n",
    "    model.add(Conv2D(filters=32, kernel_size=(5,5), activation='relu', input_shape=inputShape))\n",
    "    model.add(Conv2D(filters=32, kernel_size=(5,5), activation='relu'))\n",
    "    model.add(MaxPool2D(pool_size=(2, 2)))\n",
    "    model.add(Dropout(rate=0.25))\n",
    "    model.add(Conv2D(filters=64, kernel_size=(3, 3), activation='relu'))\n",
    "    model.add(Conv2D(filters=64, kernel_size=(3, 3), activation='relu'))\n",
    "    model.add(MaxPool2D(pool_size=(2, 2)))\n",
    "    model.add(Dropout(rate=0.25))\n",
    "    model.add(Flatten())\n",
    "    model.add(Dense(500, activation='relu'))\n",
    "    model.add(Dropout(rate=0.5))\n",
    "    model.add(Dense(classes, activation='softmax'))\n",
    "    return model"
   ]
  },
  {
   "cell_type": "code",
   "execution_count": null,
   "id": "02b658ed",
   "metadata": {},
   "outputs": [],
   "source": [
    "epochs = 25\n",
    "model = Net.build(width=30, height=30, depth=3, classes=43)\n",
    "print(np.shape(X_train))\n",
    "print(np.shape(y_train))\n",
    "[print(i.shape, i.dtype) for i in model.inputs]\n",
    "[print(o.shape, o.dtype) for o in model.outputs]\n",
    "[print(l.name, l.input_shape, l.dtype) for l in model.layers]\n",
    "model.compile(loss='categorical_crossentropy', optimizer='adam', metrics=['accuracy'])\n",
    "history = model.fit(X_train, y_train, batch_size=64, epochs=epochs)"
   ]
  },
  {
   "cell_type": "code",
   "execution_count": null,
   "id": "fd7ae40f",
   "metadata": {},
   "outputs": [],
   "source": [
    "plt.figure()\n",
    "N = epochs\n",
    "plt.plot(np.arange(0, N), history.history[\"loss\"], label=\"train_loss\")\n",
    "plt.plot(np.arange(0, N), history.history[\"accuracy\"], label=\"train_acc\")\n",
    "plt.title(\"Training Loss and Accuracy\")\n",
    "plt.xlabel(\"Epoch\")\n",
    "plt.ylabel(\"Loss/Accuracy\")\n",
    "plt.legend(loc=\"lower left\")\n",
    "plt.show()\n"
   ]
  },
  {
   "cell_type": "code",
   "execution_count": null,
   "id": "e852f240",
   "metadata": {},
   "outputs": [],
   "source": [
    "images = []\n",
    "img = Image.open(BASE_PATH + os.sep + \"test38.ppm\")\n",
    "img.show()\n",
    "image = img.resize((30,30), 3)\n",
    "images.append(img_to_array(image))\n",
    "print(np.shape(images))\n",
    "X_test=np.array(images)\n",
    "pred = model.predict_classes(X_test)\n",
    "road_signs = [\"Ограничение скорости 20 км/ч\", \"Ограничение скорости 30 км/ч\", \"Ограничение скорости 50 км/ч\", \"Ограничение скорости 60 км/ч\", \"Ограничение скорости 70 км/ч\", \"Ограничение скорости 80 км/ч\", \"Конец зоны ограничения 80 км/ч\", \"Ограничение скорости 100 км/ч\", \"Ограничение скорости 120 км/ч\", \"Обгон запрещен\", \"Обгон грузовым автомобилям запрещен\", \" \", \"Главная дорога\", \"Уступи дорогу\", \"Движение без остановки запрещено\", \"Движение запрещено\", \"Движение грузовых автомобилей запрещено\", \"Въезд запрещен\", \"Прочие опасности\", \"Опасный поворот(левый)\", \"Опасный поворот(правый)\", \"Опасные повороты (с первым поворотом налево)\", \"Неровная дорога\", \"Скользкая дорога\", \"Сужение дороги\", \"Дорожные работы\", \"Светофорное регулирование\", \"Пешеходный переход\", \"Дети\", \"Пересечение с велосипедной дорожкой или велопешеходный переход\", \"Субботние, воскресные и праздничные дни\", \"Дикие животные\", \"Конец зоны всех ограничений\", \"Движение направо\", \"Движение налево\", \"Движение прямо\", \"Движение прямо или направо\", \"Движение прямо или налево\", \"Объезд препятствия справа\", \"Объезд препятствия слева\", \"Круговое движение\", \"Конец зоны запрещения обгона\", \"Конец зоны запрещения обгона грузовым автомобилям\"]\n",
    "print(road_signs[int(pred)])"
   ]
  },
  {
   "cell_type": "code",
   "execution_count": null,
   "id": "4837fee0",
   "metadata": {},
   "outputs": [],
   "source": [
    "directory = \"your path \"\n",
    "for infile in glob.glob(\"*.jpg\"):\n",
    "    file, ext = os.path.splitext(infile)\n",
    "    im = Image.open(infile)\n",
    "    im.save(file + \".ppm\", \"PPM\")"
   ]
  },
  {
   "cell_type": "code",
   "execution_count": null,
   "id": "ae006a0d",
   "metadata": {},
   "outputs": [],
   "source": [
    "cap = cv2.VideoCapture(0)\n",
    "\n",
    "while(True): \n",
    "    ret, frame = cap.read()\n",
    "    gray = cv2.cvtColor(frame, cv2.COLOR_BGR2GRAY)\n",
    "    cv2.imshow('Video', frame)\n",
    "    cv2.imshow('frame', gray)\n",
    "    if cv2.waitKey(1) & 0xFF == ord('q'):\n",
    "        break\n",
    "\n",
    "cap.release()\n",
    "cv2.destroyAllWindows()"
   ]
  }
 ],
 "metadata": {
  "kernelspec": {
   "display_name": "Python 3",
   "language": "python",
   "name": "python3"
  },
  "language_info": {
   "codemirror_mode": {
    "name": "ipython",
    "version": 3
   },
   "file_extension": ".py",
   "mimetype": "text/x-python",
   "name": "python",
   "nbconvert_exporter": "python",
   "pygments_lexer": "ipython3",
   "version": "3.6.8"
  }
 },
 "nbformat": 4,
 "nbformat_minor": 5
}
